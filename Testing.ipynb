{
 "cells": [
  {
   "cell_type": "markdown",
   "metadata": {},
   "source": [
    "ESSENTIAL LIBRARIES : "
   ]
  },
  {
   "cell_type": "code",
   "execution_count": null,
   "metadata": {},
   "outputs": [],
   "source": [
    "import tenFor the current problem statement of classification of welding defects, we have decided to use the CNN model, which is known to provide promising results with training datasets. A CNN model examines a given image piece by piece, picking up features such as edges, corners, colour variation patterns, etc, creating a feature map, with the help of which it classifies the image (in our case, the five different classes of welding defects). We intend to improve the learning and validation accuracy, converge the network, and reduce our custom loss to minimum with the increasing number of the epochs. Each point of the precision curve means the correct prediction rate for the set of train or validation images.\n",
    "sorflow as tf\n",
    "from tensorflow.keras.layers import Conv2D, MaxPool2D, Dense, Dropout, Activation, Flatten\n",
    "import cv2\n",
    "import numpy as np\n",
    "import matplotlib.pyplot as plt\n",
    "%matplotlib inline "
   ]
  },
  {
   "cell_type": "markdown",
   "metadata": {},
   "source": [
    "NETWORK ARCHITECTURE : "
   ]
  },
  {
   "cell_type": "code",
   "execution_count": null,
   "metadata": {},
   "outputs": [],
   "source": [
    "import tensorflow as tf\n",
    "inputs = tf.keras.layers.Input(shape = (240, 160, 3))"
   ]
  },
  {
   "cell_type": "code",
   "execution_count": null,
   "metadata": {},
   "outputs": [],
   "source": [
    "outputs = tf.keras.applications.EfficientNetB4(include_top=False, weights=None, input_shape=(240, 160, 3))(inputs)"
   ]
  },
  {
   "cell_type": "code",
   "execution_count": null,
   "metadata": {},
   "outputs": [],
   "source": [
    "global_average_pooling = tf.keras.layers.GlobalAveragePooling2D()(outputs)\n",
    "dropout_layer = tf.keras.layers.Dropout(0.2)(global_average_pooling)\n",
    "dense_layer = tf.keras.layers.Dense(6)(dropout_layer)\n",
    "activation_layer = Activation('softmax')(dense_layer)"
   ]
  },
  {
   "cell_type": "code",
   "execution_count": null,
   "metadata": {},
   "outputs": [],
   "source": [
    "model_final = tf.keras.models.Model(inputs = inputs, outputs = activation_layer)"
   ]
  },
  {
   "cell_type": "markdown",
   "metadata": {},
   "source": [
    "18TH EPOCH HAD MINIMUM LOSS AND MAXIMUM TRAINING ACCURACY, HENCE WEITGHTS OF THE 18TH EPOCH HAS BEEN LOADED FOR THE REAL TIME TESTING ON THE IMAGES."
   ]
  },
  {
   "cell_type": "code",
   "execution_count": null,
   "metadata": {},
   "outputs": [],
   "source": [
    "model_final.load_weights('/content/drive/MyDrive/welding/checkpoints/train_18.tf')"
   ]
  },
  {
   "cell_type": "markdown",
   "metadata": {},
   "source": [
    "LOADING THE IMAGE TO BE TESTED, RESIZING IT TO THE TRAINING DATASET SIZE OF (240 x 160 x 3) AND NORMALIZING IT TO THE STANDARD VALUE BETWEEN 0 AND 1.\n",
    "(YOU CAN ALSO PLOT YOUR IMAGE HERE)"
   ]
  },
  {
   "cell_type": "code",
   "execution_count": null,
   "metadata": {},
   "outputs": [],
   "source": [
    "import numpy as np\n",
    "import matplotlib.pyplot as plt\n",
    "img_path = \"\"\n",
    "img = cv2.imread(img_path)\n",
    "img = cv2.resize(img, (160,240))\n",
    "img = img / 255.0\n",
    "img = np.expand_dims(img,axis = 0)\n",
    "plt.imshow(img[0])"
   ]
  },
  {
   "cell_type": "markdown",
   "metadata": {},
   "source": [
    "PREDICTING THE WELDING DEFECT BY THE NETWORK ARCHITECTURE"
   ]
  },
  {
   "cell_type": "code",
   "execution_count": null,
   "metadata": {},
   "outputs": [],
   "source": [
    "predict = model_final.predict(img)"
   ]
  },
  {
   "cell_type": "markdown",
   "metadata": {},
   "source": [
    "ARGMAX FUNCTION PROVIDES THE INDEX VALUE CONTAINING THE MAXIMUM FLOAT VALUE PRESENT(CLASSIFICATION PROBABILITY IN OUR CASE)."
   ]
  },
  {
   "cell_type": "code",
   "execution_count": null,
   "metadata": {},
   "outputs": [],
   "source": [
    "print(np.argmax(predict))"
   ]
  },
  {
   "cell_type": "markdown",
   "metadata": {},
   "source": [
    "HERE \"PREDICT\" IS A ONE-DIMENSIONAL ARRAY CONSISITING OF THE PROBABILITY OF EACH AND EVERY PREDICTING CLASS PRESENNT IN THE TRAINING DATASET"
   ]
  },
  {
   "cell_type": "code",
   "execution_count": null,
   "metadata": {},
   "outputs": [],
   "source": [
    "print(predict)"
   ]
  }
 ],
 "metadata": {
  "kernelspec": {
   "display_name": "Python 3",
   "language": "python",
   "name": "python3"
  },
  "language_info": {
   "codemirror_mode": {
    "name": "ipython",
    "version": 3
   },
   "file_extension": ".py",
   "mimetype": "text/x-python",
   "name": "python",
   "nbconvert_exporter": "python",
   "pygments_lexer": "ipython3",
   "version": "3.8.5"
  }
 },
 "nbformat": 4,
 "nbformat_minor": 4
}
